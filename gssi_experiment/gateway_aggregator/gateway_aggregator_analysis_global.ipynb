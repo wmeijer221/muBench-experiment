{
 "cells": [
  {
   "cell_type": "markdown",
   "metadata": {},
   "source": [
    "# Overview\n",
    "\n",
    "This script does more-or-less the same thing as [the singular variant](./gateway_aggregator_analysis_singular.ipynb), however, aggregates the results of different results, and performs trend analysis across different configurations (accessible vCPUs etc.)."
   ]
  },
  {
   "cell_type": "code",
   "execution_count": 2,
   "metadata": {},
   "outputs": [],
   "source": [
    "import datetime\n",
    "import json\n",
    "import os\n",
    "\n",
    "import pandas as pd\n",
    "import numpy as np\n",
    "import matplotlib.pyplot as plt\n",
    "from scipy.stats import spearmanr\n",
    "\n",
    "\n",
    "pincirollis_data_path = \"/workspaces/muBench-experiment/gssi_experiment/gateway_aggregator/pincirolli_results.csv\"\n",
    "synth_df = pd.read_csv(pincirollis_data_path, header=0)\n",
    "synth_df.describe()\n",
    "\n",
    "\n",
    "results_base_path = \"/workspaces/muBench-experiment/gssi_experiment/gateway_aggregator/results/2023_11_13/results/2023_11_12/500m_1rep_25trials/run_1/\""
   ]
  },
  {
   "cell_type": "markdown",
   "metadata": {},
   "source": [
    "# Request delay"
   ]
  },
  {
   "cell_type": "markdown",
   "metadata": {},
   "source": [
    "## Dataframe creation"
   ]
  },
  {
   "cell_type": "code",
   "execution_count": 3,
   "metadata": {},
   "outputs": [
    {
     "data": {
      "text/html": [
       "<div>\n",
       "<style scoped>\n",
       "    .dataframe tbody tr th:only-of-type {\n",
       "        vertical-align: middle;\n",
       "    }\n",
       "\n",
       "    .dataframe tbody tr th {\n",
       "        vertical-align: top;\n",
       "    }\n",
       "\n",
       "    .dataframe thead th {\n",
       "        text-align: right;\n",
       "    }\n",
       "</style>\n",
       "<table border=\"1\" class=\"dataframe\">\n",
       "  <thead>\n",
       "    <tr style=\"text-align: right;\">\n",
       "      <th></th>\n",
       "      <th>s3_intensity</th>\n",
       "      <th>run_index</th>\n",
       "      <th>replications</th>\n",
       "      <th>trials</th>\n",
       "      <th>cpu_cap</th>\n",
       "      <th>real_avg_latency_ms</th>\n",
       "      <th>synth_latency_ms</th>\n",
       "      <th>s1_real_avg_cpu_utilization</th>\n",
       "      <th>s2_real_avg_cpu_utilization</th>\n",
       "      <th>s3_real_avg_cpu_utilization</th>\n",
       "      <th>gateway-aggregator_real_avg_cpu_utilization</th>\n",
       "      <th>s1_synth_cpu_utilization</th>\n",
       "      <th>s2_synth_cpu_utilization</th>\n",
       "      <th>s3_synth_cpu_utilization</th>\n",
       "      <th>gateway-aggregator_synth_cpu_utilization</th>\n",
       "    </tr>\n",
       "  </thead>\n",
       "  <tbody>\n",
       "  </tbody>\n",
       "</table>\n",
       "</div>"
      ],
      "text/plain": [
       "Empty DataFrame\n",
       "Columns: [s3_intensity, run_index, replications, trials, cpu_cap, real_avg_latency_ms, synth_latency_ms, s1_real_avg_cpu_utilization, s2_real_avg_cpu_utilization, s3_real_avg_cpu_utilization, gateway-aggregator_real_avg_cpu_utilization, s1_synth_cpu_utilization, s2_synth_cpu_utilization, s3_synth_cpu_utilization, gateway-aggregator_synth_cpu_utilization]\n",
       "Index: []"
      ]
     },
     "execution_count": 3,
     "metadata": {},
     "output_type": "execute_result"
    }
   ],
   "source": [
    "# Generates data from the step data\n",
    "\n",
    "columns = [\n",
    "    # Metadata\n",
    "    \"s3_intensity\",\n",
    "    \"run_index\",\n",
    "    \"replications\",\n",
    "    \"trials\",\n",
    "    \"cpu_cap\",\n",
    "    # Results latency\n",
    "    \"real_avg_latency_ms\",\n",
    "    \"synth_latency_ms\",\n",
    "]\n",
    "# Results CPU utilization.\n",
    "services = ['s1', 's2', 's3', 'gateway-aggregator']\n",
    "columns.extend([f'{service}_real_avg_cpu_utilization' for service in services])\n",
    "columns.extend([f'{service}_synth_cpu_utilization' for service in services])\n",
    "\n",
    "df = pd.DataFrame(columns=columns)\n",
    "\n",
    "\n",
    "# max_steps = 25\n",
    "# for step in range(max_steps + 1):\n",
    "#     path = f\"{results_base_path}/{step}_steps/mubench_results.csv\"\n",
    "#     if not os.path.exists(path):\n",
    "#         print(f'Could not load data from path \"{path}\"')\n",
    "#         continue\n",
    "#     exp_df = pd.read_csv(path, header=0)\n",
    "#     avg_latency = np.average(exp_df[\"latency_ms\"])\n",
    "#     s3_intensity = 1 - (step / max_steps)\n",
    "#     df.at[step, \"s3_intensity\"] = s3_intensity\n",
    "#     df.at[step, \"avg_latency_ms\"] = avg_latency\n",
    "\n",
    "df"
   ]
  }
 ],
 "metadata": {
  "kernelspec": {
   "display_name": "Python 3",
   "language": "python",
   "name": "python3"
  },
  "language_info": {
   "codemirror_mode": {
    "name": "ipython",
    "version": 3
   },
   "file_extension": ".py",
   "mimetype": "text/x-python",
   "name": "python",
   "nbconvert_exporter": "python",
   "pygments_lexer": "ipython3",
   "version": "3.8.16"
  }
 },
 "nbformat": 4,
 "nbformat_minor": 2
}

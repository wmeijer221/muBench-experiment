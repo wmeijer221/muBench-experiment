{
 "cells": [
  {
   "cell_type": "markdown",
   "metadata": {},
   "source": [
    "This is a helper script that allows you to fetch prometheus data after the fact.\n",
    "(e.g., when the data you collected while running the experiments were incorrect.)"
   ]
  },
  {
   "cell_type": "code",
   "execution_count": 8,
   "metadata": {},
   "outputs": [],
   "source": [
    "\n",
    "import itertools\n",
    "import json\n",
    "import pandas as pd\n",
    "from datetime import datetime\n",
    "import os\n",
    "import math\n",
    "\n",
    "from gssi_experiment.util.prometheus_helper import (\n",
    "    LatestCpuUtilizationFetcher,\n",
    "    TIME_FORMAT,\n",
    ")\n",
    "from gssi_experiment.util.util import iterate_through_nested_folders\n"
   ]
  },
  {
   "cell_type": "code",
   "execution_count": 9,
   "metadata": {},
   "outputs": [],
   "source": [
    "# Fetches prometheus data.\n",
    "\n",
    "output_path = \"./posterior_prometheus_fetcher_data.csv\"\n",
    "# 3×24×60+13×60=5100\n",
    "time_window_in_minutes = 5100\n",
    "\n",
    "fetcher = LatestCpuUtilizationFetcher(output_path, time_window_in_minutes)\n",
    "# fetcher.fetch_latest_cpu_utilization()\n"
   ]
  },
  {
   "cell_type": "code",
   "execution_count": 10,
   "metadata": {},
   "outputs": [
    {
     "name": "stdout",
     "output_type": "stream",
     "text": [
      "loaded chunk 1\n",
      "loaded chunk 2\n",
      "loaded chunk 3\n",
      "loaded chunk 4\n",
      "loaded chunk 5\n",
      "loaded chunk 6\n",
      "loaded chunk 7\n",
      "loaded chunk 8\n",
      "loaded chunk 9\n"
     ]
    }
   ],
   "source": [
    "# Loads the dataset without ruining RAM\n",
    "\n",
    "df: pd.DataFrame = None\n",
    "for i, chunk in enumerate(pd.read_csv(output_path, header=0, chunksize=50000)):\n",
    "    print(f'loaded chunk {i + 1}')\n",
    "    if df is None:\n",
    "        df = chunk\n",
    "    else:\n",
    "        df = pd.concat([df, chunk])"
   ]
  },
  {
   "cell_type": "code",
   "execution_count": 11,
   "metadata": {},
   "outputs": [
    {
     "name": "stdout",
     "output_type": "stream",
     "text": [
      "broken_entries_count=427\n",
      "414447\n"
     ]
    }
   ],
   "source": [
    "def reshape_timestamp(series: pd.Series):\n",
    "    data = []\n",
    "    for ele in series.values:\n",
    "        try:\n",
    "            q = datetime.strptime(ele, \"%Y-%m-%d %H:%M:%S.%f\")\n",
    "        except:\n",
    "            q = \"\"\n",
    "        data.append(q)\n",
    "    ser = pd.Series(data)\n",
    "    return ser\n",
    "\n",
    "\n",
    "df[\"parsed_timestamp\"] = df[\"timestamp\"].transform(reshape_timestamp)\n",
    "\n",
    "# Removes entries with invalid datetime formats;\n",
    "# which are marked by empty strings.\n",
    "invalid_dates = df[df[\"parsed_timestamp\"] == \"\"]\n",
    "broken_entries_count = len(invalid_dates)\n",
    "print(f\"{broken_entries_count=}\")\n",
    "df = df.drop(invalid_dates.index)\n",
    "print(f'{len(df)=}')"
   ]
  },
  {
   "cell_type": "code",
   "execution_count": 12,
   "metadata": {},
   "outputs": [
    {
     "name": "stdout",
     "output_type": "stream",
     "text": [
      "/workspaces/muBench-experiment/gssi_experiment/gateway_aggregator/results/pinciroli_replication_1/experiment_1/2023_11_21/0_steps\n",
      "/workspaces/muBench-experiment/gssi_experiment/gateway_aggregator/results/pinciroli_replication_1/experiment_1/2023_11_21/1_steps\n",
      "/workspaces/muBench-experiment/gssi_experiment/gateway_aggregator/results/pinciroli_replication_1/experiment_1/2023_11_21/2_steps\n",
      "/workspaces/muBench-experiment/gssi_experiment/gateway_aggregator/results/pinciroli_replication_1/experiment_1/2023_11_21/3_steps\n",
      "/workspaces/muBench-experiment/gssi_experiment/gateway_aggregator/results/pinciroli_replication_1/experiment_1/2023_11_21/4_steps\n",
      "/workspaces/muBench-experiment/gssi_experiment/gateway_aggregator/results/pinciroli_replication_1/experiment_1/2023_11_21/5_steps\n",
      "/workspaces/muBench-experiment/gssi_experiment/gateway_offloading/results/pinciroli_replication_1/experiment_1000/2023_11_20/0_steps/0_offload\n",
      "/workspaces/muBench-experiment/gssi_experiment/gateway_offloading/results/pinciroli_replication_1/experiment_1000/2023_11_20/0_steps/10_offload\n",
      "/workspaces/muBench-experiment/gssi_experiment/gateway_offloading/results/pinciroli_replication_1/experiment_1000/2023_11_20/0_steps/4_offload\n",
      "/workspaces/muBench-experiment/gssi_experiment/gateway_offloading/results/pinciroli_replication_1/experiment_1000/2023_11_20/0_steps/6_offload\n",
      "/workspaces/muBench-experiment/gssi_experiment/gateway_offloading/results/pinciroli_replication_1/experiment_1000/2023_11_20/0_steps/8_offload\n",
      "/workspaces/muBench-experiment/gssi_experiment/gateway_offloading/results/pinciroli_replication_1/experiment_1000/2023_11_20/1_steps/0_offload\n",
      "/workspaces/muBench-experiment/gssi_experiment/gateway_offloading/results/pinciroli_replication_1/experiment_1000/2023_11_20/1_steps/10_offload\n",
      "/workspaces/muBench-experiment/gssi_experiment/gateway_offloading/results/pinciroli_replication_1/experiment_1000/2023_11_20/1_steps/4_offload\n",
      "/workspaces/muBench-experiment/gssi_experiment/gateway_offloading/results/pinciroli_replication_1/experiment_1000/2023_11_20/1_steps/6_offload\n",
      "/workspaces/muBench-experiment/gssi_experiment/gateway_offloading/results/pinciroli_replication_1/experiment_1000/2023_11_20/1_steps/8_offload\n",
      "/workspaces/muBench-experiment/gssi_experiment/gateway_offloading/results/pinciroli_replication_1/experiment_1000/2023_11_20/2_steps/0_offload\n",
      "/workspaces/muBench-experiment/gssi_experiment/gateway_offloading/results/pinciroli_replication_1/experiment_1000/2023_11_20/2_steps/10_offload\n",
      "/workspaces/muBench-experiment/gssi_experiment/gateway_offloading/results/pinciroli_replication_1/experiment_1000/2023_11_20/2_steps/2_offload\n",
      "/workspaces/muBench-experiment/gssi_experiment/gateway_offloading/results/pinciroli_replication_1/experiment_1000/2023_11_20/2_steps/4_offload\n",
      "/workspaces/muBench-experiment/gssi_experiment/gateway_offloading/results/pinciroli_replication_1/experiment_1000/2023_11_20/2_steps/6_offload\n",
      "/workspaces/muBench-experiment/gssi_experiment/gateway_offloading/results/pinciroli_replication_1/experiment_1000/2023_11_20/2_steps/8_offload\n",
      "/workspaces/muBench-experiment/gssi_experiment/gateway_offloading/results/pinciroli_replication_1/experiment_1000/2023_11_20/3_steps/0_offload\n",
      "/workspaces/muBench-experiment/gssi_experiment/gateway_offloading/results/pinciroli_replication_1/experiment_1000/2023_11_20/3_steps/10_offload\n",
      "/workspaces/muBench-experiment/gssi_experiment/gateway_offloading/results/pinciroli_replication_1/experiment_1000/2023_11_20/3_steps/4_offload\n",
      "/workspaces/muBench-experiment/gssi_experiment/gateway_offloading/results/pinciroli_replication_1/experiment_1000/2023_11_20/3_steps/6_offload\n",
      "/workspaces/muBench-experiment/gssi_experiment/gateway_offloading/results/pinciroli_replication_1/experiment_1000/2023_11_20/3_steps/8_offload\n",
      "/workspaces/muBench-experiment/gssi_experiment/gateway_offloading/results/pinciroli_replication_1/experiment_1000/2023_11_20/4_steps/0_offload\n",
      "/workspaces/muBench-experiment/gssi_experiment/gateway_offloading/results/pinciroli_replication_1/experiment_1000/2023_11_20/4_steps/10_offload\n",
      "/workspaces/muBench-experiment/gssi_experiment/gateway_offloading/results/pinciroli_replication_1/experiment_1000/2023_11_20/4_steps/4_offload\n",
      "/workspaces/muBench-experiment/gssi_experiment/gateway_offloading/results/pinciroli_replication_1/experiment_1000/2023_11_20/4_steps/6_offload\n",
      "/workspaces/muBench-experiment/gssi_experiment/gateway_offloading/results/pinciroli_replication_1/experiment_1000/2023_11_20/4_steps/8_offload\n",
      "/workspaces/muBench-experiment/gssi_experiment/gateway_offloading/results/pinciroli_replication_1/experiment_1000/2023_11_20/5_steps/0_offload\n",
      "/workspaces/muBench-experiment/gssi_experiment/gateway_offloading/results/pinciroli_replication_1/experiment_1000/2023_11_20/5_steps/10_offload\n",
      "/workspaces/muBench-experiment/gssi_experiment/gateway_offloading/results/pinciroli_replication_1/experiment_1000/2023_11_20/5_steps/4_offload\n",
      "/workspaces/muBench-experiment/gssi_experiment/gateway_offloading/results/pinciroli_replication_1/experiment_1000/2023_11_20/5_steps/6_offload\n",
      "/workspaces/muBench-experiment/gssi_experiment/gateway_offloading/results/pinciroli_replication_1/experiment_1000/2023_11_20/5_steps/8_offload\n",
      "/workspaces/muBench-experiment/gssi_experiment/gateway_offloading/results/pinciroli_replication_1/experiment_1000/2023_11_21/0_steps/2_offload\n",
      "/workspaces/muBench-experiment/gssi_experiment/gateway_offloading/results/pinciroli_replication_1/experiment_1000/2023_11_21/1_steps/2_offload\n",
      "/workspaces/muBench-experiment/gssi_experiment/gateway_offloading/results/pinciroli_replication_1/experiment_1000/2023_11_21/3_steps/2_offload\n",
      "/workspaces/muBench-experiment/gssi_experiment/gateway_offloading/results/pinciroli_replication_1/experiment_1000/2023_11_21/4_steps/2_offload\n",
      "/workspaces/muBench-experiment/gssi_experiment/gateway_offloading/results/pinciroli_replication_1/experiment_1000/2023_11_21/5_steps/2_offload\n",
      "/workspaces/muBench-experiment/gssi_experiment/pipes_and_filters/pipes_and_filters_joint/results/pinciroli_replication_1/experiment_2000/2023_11_20/0_steps\n",
      "/workspaces/muBench-experiment/gssi_experiment/pipes_and_filters/pipes_and_filters_joint/results/pinciroli_replication_1/experiment_2000/2023_11_20/1_steps\n",
      "/workspaces/muBench-experiment/gssi_experiment/pipes_and_filters/pipes_and_filters_joint/results/pinciroli_replication_1/experiment_2000/2023_11_20/2_steps\n",
      "/workspaces/muBench-experiment/gssi_experiment/pipes_and_filters/pipes_and_filters_joint/results/pinciroli_replication_1/experiment_2000/2023_11_20/3_steps\n",
      "/workspaces/muBench-experiment/gssi_experiment/pipes_and_filters/pipes_and_filters_joint/results/pinciroli_replication_1/experiment_2000/2023_11_20/4_steps\n",
      "/workspaces/muBench-experiment/gssi_experiment/pipes_and_filters/pipes_and_filters_joint/results/pinciroli_replication_1/experiment_2000/2023_11_20/5_steps\n",
      "/workspaces/muBench-experiment/gssi_experiment/pipes_and_filters/pipes_and_filters_joint/results/pinciroli_replication_1/experiment_2001/2023_11_20/0_steps\n",
      "/workspaces/muBench-experiment/gssi_experiment/pipes_and_filters/pipes_and_filters_joint/results/pinciroli_replication_1/experiment_2001/2023_11_20/1_steps\n",
      "/workspaces/muBench-experiment/gssi_experiment/pipes_and_filters/pipes_and_filters_joint/results/pinciroli_replication_1/experiment_2001/2023_11_20/2_steps\n",
      "/workspaces/muBench-experiment/gssi_experiment/pipes_and_filters/pipes_and_filters_joint/results/pinciroli_replication_1/experiment_2001/2023_11_20/3_steps\n",
      "/workspaces/muBench-experiment/gssi_experiment/pipes_and_filters/pipes_and_filters_joint/results/pinciroli_replication_1/experiment_2001/2023_11_20/4_steps\n",
      "/workspaces/muBench-experiment/gssi_experiment/pipes_and_filters/pipes_and_filters_joint/results/pinciroli_replication_1/experiment_2001/2023_11_20/5_steps\n",
      "/workspaces/muBench-experiment/gssi_experiment/pipes_and_filters/pipes_and_filters_separated/results/pinciroli_replication_1/experiment_1/2023_11_20/0_steps\n",
      "/workspaces/muBench-experiment/gssi_experiment/pipes_and_filters/pipes_and_filters_separated/results/pinciroli_replication_1/experiment_1/2023_11_20/1_steps\n",
      "/workspaces/muBench-experiment/gssi_experiment/pipes_and_filters/pipes_and_filters_separated/results/pinciroli_replication_1/experiment_1/2023_11_20/2_steps\n",
      "/workspaces/muBench-experiment/gssi_experiment/pipes_and_filters/pipes_and_filters_separated/results/pinciroli_replication_1/experiment_1/2023_11_20/3_steps\n",
      "/workspaces/muBench-experiment/gssi_experiment/pipes_and_filters/pipes_and_filters_separated/results/pinciroli_replication_1/experiment_1/2023_11_20/4_steps\n",
      "/workspaces/muBench-experiment/gssi_experiment/pipes_and_filters/pipes_and_filters_separated/results/pinciroli_replication_1/experiment_1/2023_11_20/5_steps\n"
     ]
    }
   ],
   "source": [
    "def reset_column_counters(df: pd.DataFrame):\n",
    "    \"\"\"Resets the counter suffix in the column names.\"\"\"\n",
    "    base_names = [col.split(\".\")[0] for col in df.columns]\n",
    "    counters = {un: 0 for un in set(base_names)}\n",
    "    new_columns = []\n",
    "    for column in base_names:\n",
    "        if counters[column] == 0:\n",
    "            # Adds the cleaned up name if there are no duplicates.\n",
    "            new_columns.append(column)\n",
    "        else:\n",
    "            # Adds the index in the suffix again if its a duplicate.\n",
    "            new_columns.append(f\"{column}.{counters[column]}\")\n",
    "        counters[column] += 1\n",
    "    df.columns = new_columns\n",
    "\n",
    "\n",
    "def sample_relevant_data(experiment_folder: str):\n",
    "    \"\"\"Creates a .csv file for each experiment containing\n",
    "    only relevant data to that experiment.\"\"\"\n",
    "    # Identifies the start and end time of the experiment.\n",
    "    metadata_path = f\"{experiment_folder}/metadata.json\"\n",
    "    with open(metadata_path, \"r\", encoding=\"utf-8\") as metadata_file:\n",
    "        metadata = json.loads(metadata_file.read())\n",
    "    start_time = datetime.strptime(metadata[\"start_time\"], TIME_FORMAT)\n",
    "    end_time = datetime.strptime(metadata[\"end_time\"], TIME_FORMAT)\n",
    "\n",
    "    # Samples all data based on those times.\n",
    "    sub_df: pd.DataFrame = df[df[\"parsed_timestamp\"] >= start_time]\n",
    "    sub_df = sub_df[sub_df[\"parsed_timestamp\"] <= end_time]\n",
    "\n",
    "    # Drops useless / duplicate data.\n",
    "    sub_df.dropna(how=\"all\", axis=1, inplace=True)\n",
    "    sub_df = sub_df.drop([\"parsed_timestamp\"], axis=1)\n",
    "\n",
    "    # Resets column names and row indices.\n",
    "    reset_column_counters(sub_df)\n",
    "    sub_df.reset_index()\n",
    "\n",
    "    # Writes it to the output.\n",
    "    cpu_utilization_path = f\"{experiment_folder}/cpu_utilization_raw.csv\"\n",
    "    sub_df.to_csv(cpu_utilization_path, index=False)\n",
    "\n",
    "\n",
    "ga_folder = os.path.abspath(\"../gateway_aggregator/results/pinciroli_replication_1\")\n",
    "go_folder = os.path.abspath(\"../gateway_offloading/results/pinciroli_replication_1\")\n",
    "pnfj_folder = os.path.abspath(\n",
    "    \"../pipes_and_filters/pipes_and_filters_joint/results/pinciroli_replication_1\"\n",
    ")\n",
    "pnfs_folder = os.path.abspath(\n",
    "    \"../pipes_and_filters/pipes_and_filters_separated/results/pinciroli_replication_1\"\n",
    ")\n",
    "\n",
    "experiment_folders = itertools.chain(\n",
    "    iterate_through_nested_folders(ga_folder, max_depth=2),\n",
    "    iterate_through_nested_folders(go_folder, max_depth=3),\n",
    "    iterate_through_nested_folders(pnfj_folder, max_depth=2),\n",
    "    iterate_through_nested_folders(pnfs_folder, max_depth=2),\n",
    ")\n",
    "\n",
    "for experiment_folder in experiment_folders:\n",
    "    print(experiment_folder)\n",
    "    sample_relevant_data(experiment_folder)"
   ]
  }
 ],
 "metadata": {
  "kernelspec": {
   "display_name": "Python 3",
   "language": "python",
   "name": "python3"
  },
  "language_info": {
   "codemirror_mode": {
    "name": "ipython",
    "version": 3
   },
   "file_extension": ".py",
   "mimetype": "text/x-python",
   "name": "python",
   "nbconvert_exporter": "python",
   "pygments_lexer": "ipython3",
   "version": "3.8.16"
  }
 },
 "nbformat": 4,
 "nbformat_minor": 2
}
